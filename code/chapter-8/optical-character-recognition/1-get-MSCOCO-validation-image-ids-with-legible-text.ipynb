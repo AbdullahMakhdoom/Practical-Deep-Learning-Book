{
 "cells": [
  {
   "cell_type": "markdown",
   "metadata": {},
   "source": [
    "# Cloud APIs for Computer Vision: Up and Running in 15 Minutes\n",
    "\n",
    "This code is part of [Chapter 8- Cloud APIs for Computer Vision: Up and Running in 15 Minutes ](https://learning.oreilly.com/library/view/practical-deep-learning/9781492034858/ch08.html).\n",
    "\n",
    "## Get MSCOCO validation image ids with legible text\n",
    "\n",
    "We will develop a dataset of images from the MSCOCO dataset that contain at least a single instance of legible text and are in the validation split. In order to do this, we first need to download `cocotext.v2.json` from https://bgshih.github.io/cocotext/ and update the path in the next couple of cells. "
   ]
  },
  {
   "cell_type": "code",
   "execution_count": 16,
   "metadata": {},
   "outputs": [],
   "source": [
    "# Please download the coco_text file from the COCO-Text repository from http://vision.cornell.edu/se3/coco-text/\n",
    "import coco_text\n",
    "import numpy as np\n",
    "import skimage.io as io\n",
    "import os"
   ]
  },
  {
   "cell_type": "code",
   "execution_count": 9,
   "metadata": {},
   "outputs": [
    {
     "name": "stdout",
     "output_type": "stream",
     "text": [
      "loading annotations into memory...\n",
      "0:00:01.413909\n",
      "creating index...\n",
      "index created!\n"
     ]
    }
   ],
   "source": [
    "#Load the COCO text json file\n",
    "ct = coco_text.COCO_Text('/cocotext.v2.json')"
   ]
  },
  {
   "cell_type": "code",
   "execution_count": 10,
   "metadata": {
    "scrolled": false
   },
   "outputs": [
    {
     "name": "stdout",
     "output_type": "stream",
     "text": [
      "10000\n"
     ]
    }
   ],
   "source": [
    "#Find the total number of images in validation set\n",
    "print(len(ct.val))"
   ]
  },
  {
   "cell_type": "code",
   "execution_count": 11,
   "metadata": {},
   "outputs": [],
   "source": [
    "dataDir = 'train2014'\n",
    "dataType = 'val2017'"
   ]
  },
  {
   "cell_type": "code",
   "execution_count": 12,
   "metadata": {},
   "outputs": [],
   "source": [
    "#Get all images containing at least one instance of legible text\n",
    "imgIds = ct.getImgIds(imgIds=ct.val, catIds=[('legibility', 'legible')])"
   ]
  },
  {
   "cell_type": "code",
   "execution_count": 13,
   "metadata": {},
   "outputs": [
    {
     "name": "stdout",
     "output_type": "stream",
     "text": [
      "3261\n"
     ]
    }
   ],
   "source": [
    "#Find total number of validation images which have legible text\n",
    "print(len(imgIds))"
   ]
  },
  {
   "cell_type": "code",
   "execution_count": 27,
   "metadata": {},
   "outputs": [
    {
     "name": "stdout",
     "output_type": "stream",
     "text": [
      "2752\n"
     ]
    }
   ],
   "source": [
    "#Make sure all the imgIds exist in the data that we downloaded\n",
    "def filename_from_imgid(imgid):\n",
    "    return \"COCO_train2014_000000\" + str(imgid) + \".jpg\"\n",
    "\n",
    "#Edit with the path to train2014 MSCOCO dataset\n",
    "path = \"/train2014/\"\n",
    "\n",
    "final_imgIds = []\n",
    "\n",
    "for each in imgIds:\n",
    "    filename = filename_from_imgid(each)\n",
    "    if os.path.exists(path + filename):\n",
    "        final_imgIds.append(each)\n",
    "\n",
    "print(len(final_imgIds))"
   ]
  },
  {
   "cell_type": "code",
   "execution_count": null,
   "metadata": {},
   "outputs": [],
   "source": [
    "#Make a folder where all the temporary data files can be stored\n",
    "!mkdir data"
   ]
  },
  {
   "cell_type": "code",
   "execution_count": null,
   "metadata": {},
   "outputs": [],
   "source": [
    "#Save a list of the image ids of the validation images\n",
    "with open('/data/val_imgIds_final.csv', 'w') as f:\n",
    "    f.write(\"\\n\".join(str(imgId) for imgId in imgIds))"
   ]
  }
 ],
 "metadata": {
  "kernelspec": {
   "display_name": "Python 3",
   "language": "python",
   "name": "python3"
  },
  "language_info": {
   "codemirror_mode": {
    "name": "ipython",
    "version": 3
   },
   "file_extension": ".py",
   "mimetype": "text/x-python",
   "name": "python",
   "nbconvert_exporter": "python",
   "pygments_lexer": "ipython3",
   "version": "3.6.8"
  },
  "toc": {
   "base_numbering": 1,
   "nav_menu": {},
   "number_sections": true,
   "sideBar": true,
   "skip_h1_title": false,
   "title_cell": "Table of Contents",
   "title_sidebar": "Contents",
   "toc_cell": false,
   "toc_position": {},
   "toc_section_display": true,
   "toc_window_display": false
  }
 },
 "nbformat": 4,
 "nbformat_minor": 1
}
