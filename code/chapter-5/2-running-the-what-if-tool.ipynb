{
 "cells": [
  {
   "cell_type": "markdown",
   "metadata": {
    "colab_type": "text",
    "id": "zuvcBYcvc4mB"
   },
   "source": [
    "<table class=\"tfo-notebook-buttons\" align=\"center\">\n",
    "  <td>\n",
    "    <a target=\"_blank\" href=\"\"><img src=\"https://www.tensorflow.org/images/colab_logo_32px.png\" />Run in Google Colab</a>\n",
    "  </td>\n",
    "  <td>\n",
    "    <a target=\"_blank\" href=\"\"><img src=\"https://www.tensorflow.org/images/GitHub-Mark-32px.png\" />View source on GitHub</a>\n",
    "  </td>\n",
    "</table>"
   ]
  },
  {
   "cell_type": "markdown",
   "metadata": {
    "colab_type": "text",
    "id": "Pknp7a70h6IF"
   },
   "source": [
    "# Running the What if Tool\n",
    "\n",
    "To use the What-if Tool, we need the dataset and a model. We will use the previously trained model that we wrote and load it into the What if Tool. \n",
    "\n",
    "TensorFlow Datasets makes downloading and loading the data (in the `tfrecord` format) relatively easy. All we need to do is to locate the data file within the downloaded location. In other words, download the `tfrecord` data in an accessible location, view the contents and move the `.tfrecord` file to the current folder.\n",
    "\n",
    "It is best to perform the following lines of code in a local system rather than a Colab notebook as the integration between Colab and the What if Tool is still being improved."
   ]
  },
  {
   "cell_type": "markdown",
   "metadata": {
    "colab_type": "text",
    "id": "6Mno0APQ84yU"
   },
   "source": [
    "First we need to start TensorBoard.\n",
    "\n",
    "```\n",
    "mkdir tensorboard\n",
    "tensorboard --logdir ./log --alsologtostderr\n",
    "```\n",
    "\n",
    "Now, in a new terminal let's make a directory for all our What if Tool experiments\n",
    "\n",
    "```\n",
    "mkdir what_if_stuff\n",
    "\n",
    "```\n",
    "\n",
    "Move the trained model and TFRecord data to here. The overall directory structure looks something like this:\n",
    "\n",
    "```\n",
    "deepvision@deepvision:~/what-if-stuff$ tree\n",
    ".\n",
    "└── colo\n",
    "    └── model\n",
    "        ├── 1\n",
    "        │   ├── assets\n",
    "        │   ├── saved_model.pb\n",
    "        │   └── variables\n",
    "        └── colo.tfrec\n",
    "```\n",
    "\n",
    "\n",
    "Let's start docker inside the newly created directory \n",
    "\n",
    "\n",
    "```\n",
    "sudo docker run -p 8500:8500 --mount type=bind,source=<ADD-ABSOLUTE-PATH-HERE>/what-if-stuff/colo/model/,target=/models/colo -e MODEL_NAME=colo -t tensorflow/serving\n",
    "```\n",
    "\n",
    "A word of caution, the port must be `8500` and all parameters but be spelled exactly as above. \n",
    "\n",
    "Select the gray gear button at the far right and add the following values: \n",
    "\n",
    "|d|d|\n",
    "|-|-|\n",
    "|Inference Address |  ip_addr:8500 |\n",
    "|Model Name | /models/colo |\n",
    "|Model Type | Classification |\n",
    "|Path to examples | <ADD-ABSOLUTE-PATH-HERE>what_if_stuff/colo/models/colo.tfrec |"
   ]
  },
  {
   "cell_type": "markdown",
   "metadata": {
    "colab_type": "text",
    "id": "vzmC7ZO9b2xH"
   },
   "source": [
    "As we are working with Docker, here are two commands you will find yourself using a lot: \n",
    "\n",
    "```\n",
    "sudo docker rm $(sudo docker ps -aq)\n",
    "sudo docker kill \n",
    "```\n",
    "\n"
   ]
  }
 ],
 "metadata": {
  "accelerator": "GPU",
  "colab": {
   "collapsed_sections": [],
   "name": "2_chapter",
   "provenance": []
  },
  "kernelspec": {
   "display_name": "Python 3",
   "language": "python",
   "name": "python3"
  },
  "language_info": {
   "codemirror_mode": {
    "name": "ipython",
    "version": 3
   },
   "file_extension": ".py",
   "mimetype": "text/x-python",
   "name": "python",
   "nbconvert_exporter": "python",
   "pygments_lexer": "ipython3",
   "version": "3.6.8"
  },
  "toc": {
   "base_numbering": 1,
   "nav_menu": {},
   "number_sections": true,
   "sideBar": true,
   "skip_h1_title": false,
   "title_cell": "Table of Contents",
   "title_sidebar": "Contents",
   "toc_cell": false,
   "toc_position": {},
   "toc_section_display": true,
   "toc_window_display": false
  }
 },
 "nbformat": 4,
 "nbformat_minor": 1
}
