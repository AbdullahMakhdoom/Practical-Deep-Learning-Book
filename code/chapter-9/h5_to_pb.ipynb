{
 "cells": [
  {
   "cell_type": "markdown",
   "metadata": {},
   "source": [
    "# Conversion of h5 model to pb\n",
    "\n",
    "This notebook is a part of Chapter-9, Scalable Inference Serving on Cloud with TensorFlow Serving and KubeFlow. We will convert a pretrained model, such as the ones we trained in previous chapters, to a `pb` model in order to use it for serving using TensorFlow Serving.\n",
    "\n",
    "Please update the path of the `h5` model in `ADD_H5_MODEL_PATH`, and the desired location and model name in `ADD_PATH_OF_PB_MODEL`."
   ]
  },
  {
   "cell_type": "code",
   "execution_count": null,
   "metadata": {},
   "outputs": [],
   "source": [
    "import tensorflow\n",
    "from tensorflow import keras\n",
    "\n",
    "from keras.models import load_model\n",
    "import numpy as np\n",
    "from keras.utils.generic_utils import CustomObjectScope\n",
    "from keras import backend as K\n",
    "import tensorflow as tf"
   ]
  },
  {
   "cell_type": "code",
   "execution_count": null,
   "metadata": {},
   "outputs": [],
   "source": [
    "with CustomObjectScope({'relu6': tf.nn.relu6}):\n",
    "    model = load_model('ADD_H5_MODEL_PATH')"
   ]
  },
  {
   "cell_type": "code",
   "execution_count": null,
   "metadata": {},
   "outputs": [],
   "source": [
    "signature = tf.saved_model.signature_def_utils.predict_signature_def(\n",
    "    inputs={'image_bytes': model.input}, outputs={'scores': model.output})\n",
    "\n",
    "builder = tf.saved_model.builder.SavedModelBuilder('ADD_PATH_OF_PB_MODEL')\n",
    "builder.add_meta_graph_and_variables(\n",
    "    sess=K.get_session(),\n",
    "    tags=[tf.saved_model.tag_constants.SERVING],\n",
    "    signature_def_map={\n",
    "        tf.saved_model.signature_constants.DEFAULT_SERVING_SIGNATURE_DEF_KEY:\n",
    "        signature\n",
    "    })\n",
    "builder.save()"
   ]
  }
 ],
 "metadata": {
  "kernelspec": {
   "display_name": "Python 3",
   "language": "python",
   "name": "python3"
  },
  "language_info": {
   "codemirror_mode": {
    "name": "ipython",
    "version": 3
   },
   "file_extension": ".py",
   "mimetype": "text/x-python",
   "name": "python",
   "nbconvert_exporter": "python",
   "pygments_lexer": "ipython3",
   "version": "3.6.8"
  },
  "toc": {
   "base_numbering": 1,
   "nav_menu": {},
   "number_sections": true,
   "sideBar": true,
   "skip_h1_title": false,
   "title_cell": "Table of Contents",
   "title_sidebar": "Contents",
   "toc_cell": false,
   "toc_position": {},
   "toc_section_display": true,
   "toc_window_display": false
  }
 },
 "nbformat": 4,
 "nbformat_minor": 2
}
